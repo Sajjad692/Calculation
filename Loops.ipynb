{
 "cells": [
  {
   "cell_type": "markdown",
   "id": "0f209ebb",
   "metadata": {},
   "source": [
    "## Loops in Programming:"
   ]
  },
  {
   "cell_type": "markdown",
   "id": "a6618110",
   "metadata": {},
   "source": [
    "A method to repeat a specfic block of code multiple times\n",
    "\" A loop allows you to execute a block of code again and again, either for a fix number or while for a certain condition remain true.\n",
    "There are three types of loops\n",
    "\n",
    "1- for loop \n",
    "\n",
    "2- while loop \n",
    "\n",
    "3- nested loop"
   ]
  },
  {
   "cell_type": "markdown",
   "id": "6b67c0f7",
   "metadata": {},
   "source": [
    "### for loop:-"
   ]
  },
  {
   "cell_type": "markdown",
   "id": "70ee4093",
   "metadata": {},
   "source": [
    "for loop is used when the number of repitation known in advance."
   ]
  },
  {
   "cell_type": "code",
   "execution_count": 2,
   "id": "f62983cb",
   "metadata": {},
   "outputs": [
    {
     "name": "stdout",
     "output_type": "stream",
     "text": [
      "1\n",
      "2\n",
      "3\n",
      "4\n",
      "5\n",
      "6\n"
     ]
    }
   ],
   "source": [
    "for numbers in range(1, 7):\n",
    "    print(numbers)\n"
   ]
  },
  {
   "cell_type": "markdown",
   "id": "881ded21",
   "metadata": {},
   "source": [
    "### while loop:-"
   ]
  },
  {
   "cell_type": "markdown",
   "id": "8c0302a5",
   "metadata": {},
   "source": [
    "while loop is used when numbers of repitation is not known, but loop should continue as long as condition is true."
   ]
  },
  {
   "cell_type": "code",
   "execution_count": 3,
   "id": "57babdcc",
   "metadata": {},
   "outputs": [
    {
     "name": "stdout",
     "output_type": "stream",
     "text": [
      "1\n",
      "2\n",
      "3\n",
      "4\n",
      "5\n",
      "6\n"
     ]
    }
   ],
   "source": [
    "numbers=1\n",
    "while numbers<=6:\n",
    "    print(numbers)\n",
    "    numbers+=1"
   ]
  },
  {
   "cell_type": "markdown",
   "id": "a2b54ae3",
   "metadata": {},
   "source": [
    "### nested loop:-"
   ]
  },
  {
   "cell_type": "markdown",
   "id": "9b20c9bc",
   "metadata": {},
   "source": [
    "when there is another loop inside the loop this type of loop is called nested loop."
   ]
  },
  {
   "cell_type": "code",
   "execution_count": 7,
   "id": "b2bcd11f",
   "metadata": {},
   "outputs": [
    {
     "name": "stdout",
     "output_type": "stream",
     "text": [
      "i=1, j=1\n",
      "i=1, j=2\n",
      "i=1, j=3\n",
      "i=2, j=1\n",
      "i=2, j=2\n",
      "i=2, j=3\n"
     ]
    }
   ],
   "source": [
    "for i in range(1, 3):\n",
    "    for j in range(1,4):\n",
    "        print(f\"i={i}, j={j}\")"
   ]
  },
  {
   "cell_type": "markdown",
   "id": "10a545e4",
   "metadata": {},
   "source": [
    "### break:-"
   ]
  },
  {
   "cell_type": "markdown",
   "id": "adf0fad2",
   "metadata": {},
   "source": [
    "break is use to stop the loop completely when a condition is met"
   ]
  },
  {
   "cell_type": "code",
   "execution_count": 16,
   "id": "cad83ec8",
   "metadata": {},
   "outputs": [
    {
     "name": "stdout",
     "output_type": "stream",
     "text": [
      "0\n",
      "1\n",
      "2\n"
     ]
    }
   ],
   "source": [
    "for numbers in range(5):\n",
    "    if numbers==3:\n",
    "        break\n",
    "    print(numbers)\n",
    "    \n"
   ]
  },
  {
   "cell_type": "markdown",
   "id": "de76c7bf",
   "metadata": {},
   "source": [
    "### continue:-"
   ]
  },
  {
   "cell_type": "markdown",
   "id": "741a9e44",
   "metadata": {},
   "source": [
    "condtinue is used to skip the current iteration and move to the next step."
   ]
  },
  {
   "cell_type": "code",
   "execution_count": 24,
   "id": "2b24c99d",
   "metadata": {},
   "outputs": [
    {
     "name": "stdout",
     "output_type": "stream",
     "text": [
      "0\n",
      "1\n",
      "2\n",
      "3\n"
     ]
    }
   ],
   "source": [
    "for numbers in range(5):\n",
    "    if numbers==4:\n",
    "        continue\n",
    "    print(numbers)"
   ]
  }
 ],
 "metadata": {
  "kernelspec": {
   "display_name": "base",
   "language": "python",
   "name": "python3"
  },
  "language_info": {
   "codemirror_mode": {
    "name": "ipython",
    "version": 3
   },
   "file_extension": ".py",
   "mimetype": "text/x-python",
   "name": "python",
   "nbconvert_exporter": "python",
   "pygments_lexer": "ipython3",
   "version": "3.12.9"
  }
 },
 "nbformat": 4,
 "nbformat_minor": 5
}
