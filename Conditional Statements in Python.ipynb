{
 "cells": [
  {
   "cell_type": "markdown",
   "id": "ce5f73ba",
   "metadata": {},
   "source": [
    "## Conditional Statements in Python:"
   ]
  },
  {
   "cell_type": "markdown",
   "id": "5837e19c",
   "metadata": {},
   "source": [
    "Conditional Statements are use for decision making. There are three types of conditional statements in python\n",
    "1- if\n",
    "2- elif\n",
    "3- else\n",
    "whats it means?\n",
    "\"If this happens____ do this. Otherwise, do something else\""
   ]
  },
  {
   "cell_type": "markdown",
   "id": "d4967a4d",
   "metadata": {},
   "source": [
    "1- if\n",
    "2- elif\n",
    "3- else"
   ]
  },
  {
   "cell_type": "markdown",
   "id": "92d18dc8",
   "metadata": {},
   "source": [
    "## if Statement:-"
   ]
  },
  {
   "cell_type": "markdown",
   "id": "ad3ab92a",
   "metadata": {},
   "source": [
    "Only execute codes in block. print command is 4 spaceor 1 tab ahead from if command"
   ]
  },
  {
   "cell_type": "code",
   "execution_count": 2,
   "id": "7dae7d43",
   "metadata": {},
   "outputs": [
    {
     "name": "stdout",
     "output_type": "stream",
     "text": [
      "you are eligible for driving liscence\n"
     ]
    }
   ],
   "source": [
    "age=18\n",
    "if age >=18:\n",
    "    print(\"you are eligible for driving liscence\")"
   ]
  },
  {
   "cell_type": "markdown",
   "id": "3c19333f",
   "metadata": {},
   "source": [
    "## elif Statement:-"
   ]
  },
  {
   "cell_type": "markdown",
   "id": "ccd45048",
   "metadata": {},
   "source": [
    "elif statement is check another condition after if statement."
   ]
  },
  {
   "cell_type": "markdown",
   "id": "6377aa5a",
   "metadata": {},
   "source": [
    "## else Statement:-"
   ]
  },
  {
   "cell_type": "markdown",
   "id": "f5d84924",
   "metadata": {},
   "source": [
    "else Statement is use when all others (if and else) are not met to the criteria"
   ]
  },
  {
   "cell_type": "markdown",
   "id": "145e99cb",
   "metadata": {},
   "source": [
    "Combine example of if, elif and else statements"
   ]
  },
  {
   "cell_type": "code",
   "execution_count": 8,
   "id": "b5fc7d5b",
   "metadata": {},
   "outputs": [
    {
     "name": "stdout",
     "output_type": "stream",
     "text": [
      "Grade A+\n"
     ]
    }
   ],
   "source": [
    "marks=90\n",
    "if marks >=90:\n",
    "    print(\"Grade A+\")\n",
    "elif marks >=85:\n",
    "    print(\"Grade A\")\n",
    "elif marks >=80:\n",
    "    print(\"Grade B+\")\n",
    "elif marks >= 75:\n",
    "    print(\"Grade B\")\n",
    "elif marks >=70:\n",
    "    print(\"Grade C\")\n",
    "elif marks >=65:\n",
    "    print(\"Grade D\")\n",
    "elif marks >=50:\n",
    "    print(\"Grade E\")\n",
    "else:\n",
    "    print(\"Fail\")\n"
   ]
  }
 ],
 "metadata": {
  "kernelspec": {
   "display_name": "base",
   "language": "python",
   "name": "python3"
  },
  "language_info": {
   "codemirror_mode": {
    "name": "ipython",
    "version": 3
   },
   "file_extension": ".py",
   "mimetype": "text/x-python",
   "name": "python",
   "nbconvert_exporter": "python",
   "pygments_lexer": "ipython3",
   "version": "3.12.9"
  }
 },
 "nbformat": 4,
 "nbformat_minor": 5
}
