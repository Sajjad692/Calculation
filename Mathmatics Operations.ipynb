{
 "cells": [
  {
   "cell_type": "markdown",
   "id": "940cc6c2",
   "metadata": {},
   "source": [
    "## Arithmetic Operators in Python:"
   ]
  },
  {
   "cell_type": "markdown",
   "id": "8a38dde7",
   "metadata": {},
   "source": [
    "### Addition:-"
   ]
  },
  {
   "cell_type": "code",
   "execution_count": 4,
   "id": "0ae38060",
   "metadata": {},
   "outputs": [
    {
     "name": "stdout",
     "output_type": "stream",
     "text": [
      "9003+18=9021\n"
     ]
    }
   ],
   "source": [
    "a=9003\n",
    "b=18\n",
    "result=a+b\n",
    "print(f\"{a}+{b}={result}\")"
   ]
  },
  {
   "cell_type": "markdown",
   "id": "d65e99ed",
   "metadata": {},
   "source": [
    "### Subtration:-"
   ]
  },
  {
   "cell_type": "code",
   "execution_count": 5,
   "id": "5cc86fa4",
   "metadata": {},
   "outputs": [
    {
     "name": "stdout",
     "output_type": "stream",
     "text": [
      "9003-18=8985\n"
     ]
    }
   ],
   "source": [
    "result=a-b\n",
    "print(f\"{a}-{b}={result}\")"
   ]
  },
  {
   "cell_type": "markdown",
   "id": "2079036e",
   "metadata": {},
   "source": [
    "### Multiplication:-"
   ]
  },
  {
   "cell_type": "code",
   "execution_count": 6,
   "id": "a4db2744",
   "metadata": {},
   "outputs": [
    {
     "name": "stdout",
     "output_type": "stream",
     "text": [
      "9003*18=162054\n"
     ]
    }
   ],
   "source": [
    "result=a*b\n",
    "print(f\"{a}*{b}={result}\")\n"
   ]
  },
  {
   "cell_type": "markdown",
   "id": "1b8b3ccf",
   "metadata": {},
   "source": [
    "### Division:-"
   ]
  },
  {
   "cell_type": "code",
   "execution_count": 9,
   "id": "48d4df4c",
   "metadata": {},
   "outputs": [
    {
     "name": "stdout",
     "output_type": "stream",
     "text": [
      "9003/18=500.1666666666667\n"
     ]
    }
   ],
   "source": [
    "a=9003\n",
    "b=18\n",
    "result=a/b\n",
    "print(f\"{a}/{b}={result}\")"
   ]
  },
  {
   "cell_type": "markdown",
   "id": "701c5429",
   "metadata": {},
   "source": [
    "### Floor Division:-"
   ]
  },
  {
   "cell_type": "markdown",
   "id": "5382a218",
   "metadata": {},
   "source": [
    "Floor division is use for round figure we use // for floor division"
   ]
  },
  {
   "cell_type": "code",
   "execution_count": 10,
   "id": "ae408db6",
   "metadata": {},
   "outputs": [
    {
     "name": "stdout",
     "output_type": "stream",
     "text": [
      "9003/18=500\n"
     ]
    }
   ],
   "source": [
    "a=9003\n",
    "b=18\n",
    "result=a//b\n",
    "print(f\"{a}/{b}={result}\")"
   ]
  },
  {
   "cell_type": "markdown",
   "id": "72113ff4",
   "metadata": {},
   "source": [
    "### Modulus or Remainder:-"
   ]
  },
  {
   "cell_type": "code",
   "execution_count": 11,
   "id": "54d796f2",
   "metadata": {},
   "outputs": [
    {
     "name": "stdout",
     "output_type": "stream",
     "text": [
      "9003%18=3\n"
     ]
    }
   ],
   "source": [
    "a=9003\n",
    "b=18\n",
    "result=a%b\n",
    "print(f\"{a}%{b}={result}\")"
   ]
  },
  {
   "cell_type": "markdown",
   "id": "f074fdac",
   "metadata": {},
   "source": [
    "### Exponentiation:-"
   ]
  },
  {
   "cell_type": "markdown",
   "id": "f8e80902",
   "metadata": {},
   "source": [
    "use double ** for square"
   ]
  },
  {
   "cell_type": "code",
   "execution_count": 2,
   "id": "9b65d354",
   "metadata": {},
   "outputs": [
    {
     "name": "stdout",
     "output_type": "stream",
     "text": [
      "2**4=16\n"
     ]
    }
   ],
   "source": [
    "a=2\n",
    "b=4\n",
    "result=a**b\n",
    "print(f\"{a}**{b}={result}\")"
   ]
  }
 ],
 "metadata": {
  "kernelspec": {
   "display_name": "base",
   "language": "python",
   "name": "python3"
  },
  "language_info": {
   "codemirror_mode": {
    "name": "ipython",
    "version": 3
   },
   "file_extension": ".py",
   "mimetype": "text/x-python",
   "name": "python",
   "nbconvert_exporter": "python",
   "pygments_lexer": "ipython3",
   "version": "3.12.9"
  }
 },
 "nbformat": 4,
 "nbformat_minor": 5
}
